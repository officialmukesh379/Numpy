{
 "cells": [
  {
   "cell_type": "code",
   "execution_count": 9,
   "id": "cbba9f63",
   "metadata": {},
   "outputs": [],
   "source": [
    "import numpy as np"
   ]
  },
  {
   "cell_type": "code",
   "execution_count": 10,
   "id": "c99226b1",
   "metadata": {},
   "outputs": [
    {
     "name": "stdout",
     "output_type": "stream",
     "text": [
      "[ 1  2  3  4  5  6  7  8  9 10]\n"
     ]
    }
   ],
   "source": [
    "nparray=np.arange(1,11,1)\n",
    "print(nparray)"
   ]
  },
  {
   "cell_type": "code",
   "execution_count": 11,
   "id": "423c1143",
   "metadata": {},
   "outputs": [
    {
     "name": "stdout",
     "output_type": "stream",
     "text": [
      "-1 2 -1 4 -1 6 -1 8 -1 10 "
     ]
    }
   ],
   "source": [
    "nparray[nparray%2 != 0] = -1\n",
    "\n",
    "for i in nparray:\n",
    "    print(i,end=' ')"
   ]
  },
  {
   "cell_type": "markdown",
   "id": "df70e071",
   "metadata": {},
   "source": [
    "# Second Method"
   ]
  },
  {
   "cell_type": "code",
   "execution_count": 13,
   "id": "4e2b56c3",
   "metadata": {},
   "outputs": [
    {
     "name": "stdout",
     "output_type": "stream",
     "text": [
      "-1 2 -1 4 -1 6 -1 8 -1 10 "
     ]
    }
   ],
   "source": [
    "a=np.array([1,2,3,4,5,6,7,8,9,10])\n",
    "odd_values=(a%2 == 1)\n",
    "a[odd_values]=-1\n",
    "for i in a:\n",
    "    print(i,end=' ')\n"
   ]
  }
 ],
 "metadata": {
  "kernelspec": {
   "display_name": "Python 3 (ipykernel)",
   "language": "python",
   "name": "python3"
  },
  "language_info": {
   "codemirror_mode": {
    "name": "ipython",
    "version": 3
   },
   "file_extension": ".py",
   "mimetype": "text/x-python",
   "name": "python",
   "nbconvert_exporter": "python",
   "pygments_lexer": "ipython3",
   "version": "3.9.13"
  }
 },
 "nbformat": 4,
 "nbformat_minor": 5
}
