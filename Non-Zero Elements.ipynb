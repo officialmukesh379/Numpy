{
 "cells": [
  {
   "cell_type": "code",
   "execution_count": 8,
   "id": "276895b0",
   "metadata": {},
   "outputs": [],
   "source": [
    "import numpy as np\n",
    "import pandas as pd"
   ]
  },
  {
   "cell_type": "code",
   "execution_count": 9,
   "id": "a967cac1",
   "metadata": {},
   "outputs": [],
   "source": [
    " #You can use before semicolon [0] to remove brackets at the end but you have to remove asterix from i\n",
    "\n",
    "a=np.array([1,2,0,0,4,0])\n"
   ]
  },
  {
   "cell_type": "code",
   "execution_count": 15,
   "id": "09fc7a89",
   "metadata": {},
   "outputs": [
    {
     "name": "stdout",
     "output_type": "stream",
     "text": [
      "0 1 4 "
     ]
    }
   ],
   "source": [
    "# * aestrix USe\n",
    "\n",
    "#Unpacking a function using positional argument.\n",
    "#This method is very useful while printing your data in a raw format (without any comma and brackets ). \n",
    "#Many of the programmer try to remove comma and bracket by using a convolution of functions, \n",
    "#Hence this simple prefix asterisk can solve your problem in unpacking them. \n",
    "\n",
    "for i in np.where(a != 0):  \n",
    "    print(*i,end=' ')"
   ]
  },
  {
   "cell_type": "code",
   "execution_count": 16,
   "id": "df70b020",
   "metadata": {},
   "outputs": [
    {
     "name": "stdout",
     "output_type": "stream",
     "text": [
      "0 1 4 "
     ]
    }
   ],
   "source": [
    "for i in np.where(a != 0)[0]:\n",
    "    print(i,end=' ')"
   ]
  }
 ],
 "metadata": {
  "kernelspec": {
   "display_name": "Python 3 (ipykernel)",
   "language": "python",
   "name": "python3"
  },
  "language_info": {
   "codemirror_mode": {
    "name": "ipython",
    "version": 3
   },
   "file_extension": ".py",
   "mimetype": "text/x-python",
   "name": "python",
   "nbconvert_exporter": "python",
   "pygments_lexer": "ipython3",
   "version": "3.9.13"
  }
 },
 "nbformat": 4,
 "nbformat_minor": 5
}
