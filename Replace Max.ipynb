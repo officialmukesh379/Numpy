{
 "cells": [
  {
   "cell_type": "code",
   "execution_count": 9,
   "id": "c9807257",
   "metadata": {},
   "outputs": [],
   "source": [
    "import numpy as np"
   ]
  },
  {
   "cell_type": "code",
   "execution_count": 10,
   "id": "97d84a18",
   "metadata": {},
   "outputs": [],
   "source": [
    "nparray=np.array([11,2,13,4,15,6,27,8,19])"
   ]
  },
  {
   "cell_type": "code",
   "execution_count": 11,
   "id": "e2226220",
   "metadata": {},
   "outputs": [],
   "source": [
    "# numpy.argmax()\n",
    "\n",
    "#The numpy.argmax() function returns indices of the max element of the array in a particular axis. \n",
    "#Syntax : \n",
    "#numpy.argmax(array, axis = None, out = None)\n",
    "\n",
    "index=nparray.argmax()\n",
    "nparray[index]=0"
   ]
  },
  {
   "cell_type": "code",
   "execution_count": 12,
   "id": "2e21ec1c",
   "metadata": {},
   "outputs": [
    {
     "name": "stdout",
     "output_type": "stream",
     "text": [
      "11\n",
      "2\n",
      "13\n",
      "4\n",
      "15\n",
      "6\n",
      "0\n",
      "8\n",
      "19\n"
     ]
    }
   ],
   "source": [
    "for i in nparray:\n",
    "    print(i)"
   ]
  },
  {
   "cell_type": "code",
   "execution_count": 13,
   "id": "2312920f",
   "metadata": {},
   "outputs": [
    {
     "name": "stdout",
     "output_type": "stream",
     "text": [
      "11\n",
      "2\n",
      "13\n",
      "4\n",
      "15\n",
      "6\n",
      "0\n",
      "8\n",
      "19\n"
     ]
    }
   ],
   "source": [
    "max_value=(nparray == 27)\n",
    "nparray[max_value]=0\n",
    "for i in nparray:\n",
    "    print(i)"
   ]
  },
  {
   "cell_type": "code",
   "execution_count": null,
   "id": "b9f31cd0",
   "metadata": {},
   "outputs": [],
   "source": []
  },
  {
   "cell_type": "code",
   "execution_count": null,
   "id": "e2344683",
   "metadata": {},
   "outputs": [],
   "source": []
  }
 ],
 "metadata": {
  "kernelspec": {
   "display_name": "Python 3 (ipykernel)",
   "language": "python",
   "name": "python3"
  },
  "language_info": {
   "codemirror_mode": {
    "name": "ipython",
    "version": 3
   },
   "file_extension": ".py",
   "mimetype": "text/x-python",
   "name": "python",
   "nbconvert_exporter": "python",
   "pygments_lexer": "ipython3",
   "version": "3.9.13"
  }
 },
 "nbformat": 4,
 "nbformat_minor": 5
}
