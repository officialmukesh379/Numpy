{
 "cells": [
  {
   "cell_type": "code",
   "execution_count": 5,
   "id": "beb08ebb",
   "metadata": {},
   "outputs": [],
   "source": [
    "import numpy as np"
   ]
  },
  {
   "cell_type": "code",
   "execution_count": 6,
   "id": "51e86d89",
   "metadata": {},
   "outputs": [],
   "source": [
    "#numpy.linspace\n",
    "#numpy.linspace(start, stop, num=50, endpoint=True, retstep=False, dtype=None, axis=0)\n",
    "\n",
    "\n",
    "#startarray_like\n",
    "#The starting value of the sequence.\n",
    "\n",
    "#stop : array_like\n",
    "#The end value of the sequence, unless endpoint is set to False. In that case, the sequence consists of all but the last of num + 1 evenly spaced samples, so that stop is excluded. Note that the step size changes when endpoint is False.\n",
    "\n",
    "#num : int, optional\n",
    "#Number of samples to generate. Default is 50. Must be non-negative.\n",
    "\n",
    "#end : pointbool, optional\n",
    "#If True, stop is the last sample. Otherwise, it is not included. Default is True.\n",
    "\n",
    "#retstep : bool, optional\n",
    "#If True, return (samples, step), where step is the spacing between samples.\n",
    "\n",
    "# dtyped : type, optional\n",
    "#The type of the output array. If dtype is not given, the data type is inferred from start and stop. The inferred dtype will never be an integer; float is chosen even if the arguments would produce an array of integers."
   ]
  },
  {
   "cell_type": "code",
   "execution_count": 7,
   "id": "926fee36",
   "metadata": {},
   "outputs": [],
   "source": [
    "start = 0\n",
    "end = 5"
   ]
  },
  {
   "cell_type": "code",
   "execution_count": 8,
   "id": "17c1c701",
   "metadata": {},
   "outputs": [],
   "source": [
    "no_of_points = 10"
   ]
  },
  {
   "cell_type": "code",
   "execution_count": 9,
   "id": "d4163794",
   "metadata": {},
   "outputs": [],
   "source": [
    "cuts = np.linspace(start, end, no_of_points)[1:9]  #starting point is included but the end point is one number ahead always"
   ]
  },
  {
   "cell_type": "code",
   "execution_count": 10,
   "id": "24675457",
   "metadata": {},
   "outputs": [],
   "source": [
    "round_off_values = np.around(cuts, decimals=2)"
   ]
  },
  {
   "cell_type": "code",
   "execution_count": 11,
   "id": "3c7334d3",
   "metadata": {
    "scrolled": true
   },
   "outputs": [
    {
     "name": "stdout",
     "output_type": "stream",
     "text": [
      "0.56\n",
      "1.11\n",
      "1.67\n",
      "2.22\n",
      "2.78\n",
      "3.33\n",
      "3.89\n",
      "4.44\n"
     ]
    }
   ],
   "source": [
    "for i in round_off_values:\n",
    "    print(i)"
   ]
  }
 ],
 "metadata": {
  "kernelspec": {
   "display_name": "Python 3 (ipykernel)",
   "language": "python",
   "name": "python3"
  },
  "language_info": {
   "codemirror_mode": {
    "name": "ipython",
    "version": 3
   },
   "file_extension": ".py",
   "mimetype": "text/x-python",
   "name": "python",
   "nbconvert_exporter": "python",
   "pygments_lexer": "ipython3",
   "version": "3.9.13"
  }
 },
 "nbformat": 4,
 "nbformat_minor": 5
}
