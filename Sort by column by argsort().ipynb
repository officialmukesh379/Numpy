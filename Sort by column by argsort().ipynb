{
 "cells": [
  {
   "cell_type": "code",
   "execution_count": 2,
   "id": "3d68f61d",
   "metadata": {},
   "outputs": [],
   "source": [
    "import numpy as np"
   ]
  },
  {
   "cell_type": "code",
   "execution_count": 3,
   "id": "975e2331",
   "metadata": {},
   "outputs": [
    {
     "name": "stdout",
     "output_type": "stream",
     "text": [
      "[[21 20 19 18 17]\n",
      " [16 15 14 13 12]\n",
      " [11 10  9  8  7]\n",
      " [ 6  5  4  3  2]]\n"
     ]
    }
   ],
   "source": [
    "arr = np.array([[21,20,19,18,17],[16,15,14,13,12],[11,10,9,8,7],[ 6,5,4,3,2]])\n",
    "sort_col=0\n",
    "print(arr)"
   ]
  },
  {
   "cell_type": "code",
   "execution_count": 14,
   "id": "f4a2d307",
   "metadata": {},
   "outputs": [
    {
     "name": "stdout",
     "output_type": "stream",
     "text": [
      "first column\n",
      "[21 16 11  6]\n"
     ]
    }
   ],
   "source": [
    "print('first column')\n",
    "print(arr[:,sort_col])"
   ]
  },
  {
   "cell_type": "code",
   "execution_count": 15,
   "id": "b2988e52",
   "metadata": {},
   "outputs": [
    {
     "name": "stdout",
     "output_type": "stream",
     "text": [
      "first column argsort result\n",
      "[3 2 1 0]\n"
     ]
    }
   ],
   "source": [
    "# numpy.argsort() function is used to perform an indirect sort along the given axis using the algorithm specified by the kind keyword.\n",
    "\n",
    "print('first column argsort result')\n",
    "print(arr[:,sort_col].argsort())"
   ]
  },
  {
   "cell_type": "code",
   "execution_count": 16,
   "id": "8d2371d5",
   "metadata": {},
   "outputs": [
    {
     "name": "stdout",
     "output_type": "stream",
     "text": [
      "Sorted array\n",
      "[[ 6  5  4  3  2]\n",
      " [11 10  9  8  7]\n",
      " [16 15 14 13 12]\n",
      " [21 20 19 18 17]]\n"
     ]
    }
   ],
   "source": [
    "print('Sorted array')\n",
    "print(arr[arr[:,sort_col].argsort()])"
   ]
  },
  {
   "cell_type": "code",
   "execution_count": 13,
   "id": "0883bcb9",
   "metadata": {},
   "outputs": [
    {
     "name": "stdout",
     "output_type": "stream",
     "text": [
      "first column sorted\n",
      "[ 6 11 16 21]\n"
     ]
    }
   ],
   "source": [
    "print('first column sorted')\n",
    "print(arr[arr[:,sort_col].argsort(),sort_col])"
   ]
  },
  {
   "cell_type": "code",
   "execution_count": null,
   "id": "873f822b",
   "metadata": {},
   "outputs": [],
   "source": []
  }
 ],
 "metadata": {
  "kernelspec": {
   "display_name": "Python 3 (ipykernel)",
   "language": "python",
   "name": "python3"
  },
  "language_info": {
   "codemirror_mode": {
    "name": "ipython",
    "version": 3
   },
   "file_extension": ".py",
   "mimetype": "text/x-python",
   "name": "python",
   "nbconvert_exporter": "python",
   "pygments_lexer": "ipython3",
   "version": "3.9.13"
  }
 },
 "nbformat": 4,
 "nbformat_minor": 5
}
