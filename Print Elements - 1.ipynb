{
 "cells": [
  {
   "cell_type": "code",
   "execution_count": 1,
   "id": "2209252a",
   "metadata": {},
   "outputs": [],
   "source": [
    "import numpy as np"
   ]
  },
  {
   "cell_type": "code",
   "execution_count": 2,
   "id": "38425229",
   "metadata": {},
   "outputs": [],
   "source": [
    "li_2d = [[1,2,3,4,5],[6,7,8,9,10],[11,12,13,14,15],[16,17,18,19,20]]"
   ]
  },
  {
   "cell_type": "code",
   "execution_count": 3,
   "id": "5be2c759",
   "metadata": {},
   "outputs": [],
   "source": [
    "arr_2d = np.array(li_2d)"
   ]
  },
  {
   "cell_type": "code",
   "execution_count": 4,
   "id": "2fcf47a1",
   "metadata": {},
   "outputs": [
    {
     "name": "stdout",
     "output_type": "stream",
     "text": [
      "[[ 1  2  3  4  5]\n",
      " [ 6  7  8  9 10]\n",
      " [11 12 13 14 15]\n",
      " [16 17 18 19 20]]\n"
     ]
    }
   ],
   "source": [
    "print(arr_2d)"
   ]
  },
  {
   "cell_type": "code",
   "execution_count": 5,
   "id": "3415f187",
   "metadata": {},
   "outputs": [
    {
     "name": "stdout",
     "output_type": "stream",
     "text": [
      "11 12 13 "
     ]
    }
   ],
   "source": [
    "for i in arr_2d[2,0:3]:\n",
    "    print(i,end=\" \")"
   ]
  },
  {
   "cell_type": "code",
   "execution_count": 6,
   "id": "e00c0d50",
   "metadata": {},
   "outputs": [
    {
     "name": "stdout",
     "output_type": "stream",
     "text": [
      "9 14 19 "
     ]
    }
   ],
   "source": [
    "for i in arr_2d[1:4,3]:\n",
    "    print(i,end=\" \")"
   ]
  },
  {
   "cell_type": "code",
   "execution_count": 7,
   "id": "18c6a72f",
   "metadata": {},
   "outputs": [
    {
     "name": "stdout",
     "output_type": "stream",
     "text": [
      "11 12 13 14 15 16 17 18 19 20 "
     ]
    }
   ],
   "source": [
    "for i in arr_2d[2:4,:]:\n",
    "    print(*i,end=\" \")    "
   ]
  },
  {
   "cell_type": "code",
   "execution_count": 8,
   "id": "9477fb3a",
   "metadata": {},
   "outputs": [
    {
     "name": "stdout",
     "output_type": "stream",
     "text": [
      "7 8 12 13 "
     ]
    }
   ],
   "source": [
    "for i in arr_2d[1:3,1:3]:\n",
    "    print(*i,end=\" \")   "
   ]
  },
  {
   "cell_type": "code",
   "execution_count": 9,
   "id": "ebaf24b8",
   "metadata": {},
   "outputs": [],
   "source": [
    "#Unpacking positional arguments\n",
    "#When the arguments are in the form of sequences like list/tuple/range, \n",
    "#we can unpack them during the function call using the * operator. \n",
    "#An asterisk * is used for unpacking positional arguments during the function call."
   ]
  },
  {
   "cell_type": "code",
   "execution_count": 12,
   "id": "99082c73",
   "metadata": {},
   "outputs": [
    {
     "name": "stdout",
     "output_type": "stream",
     "text": [
      "0\n",
      "1\n",
      "2\n",
      "3\n",
      "4\n",
      "5\n"
     ]
    }
   ],
   "source": [
    "#Range Syntax\n",
    "\n",
    "#range(start, stop, step)\n",
    "\n",
    "x = range(6)\n",
    "for n in x:\n",
    "  print(n)"
   ]
  },
  {
   "cell_type": "code",
   "execution_count": 18,
   "id": "4793696a",
   "metadata": {},
   "outputs": [
    {
     "name": "stdout",
     "output_type": "stream",
     "text": [
      "0\n",
      "1\n",
      "2\n"
     ]
    }
   ],
   "source": [
    "for i in range(3):\n",
    "    print(i)"
   ]
  },
  {
   "cell_type": "code",
   "execution_count": 19,
   "id": "4a24377a",
   "metadata": {},
   "outputs": [
    {
     "name": "stdout",
     "output_type": "stream",
     "text": [
      "11 12 13 \n"
     ]
    }
   ],
   "source": [
    "##input_[2,0:3]\n",
    "for i in range(3):\n",
    "    print(arr_2d[2][i],end=\" \")\n",
    "print()"
   ]
  },
  {
   "cell_type": "code",
   "execution_count": 20,
   "id": "b355b0b6",
   "metadata": {},
   "outputs": [
    {
     "name": "stdout",
     "output_type": "stream",
     "text": [
      "9 14 19 \n"
     ]
    }
   ],
   "source": [
    "##input_[1:4,3]\n",
    "for i in range(1,4):\n",
    "    print(arr_2d[i][3],end=\" \")\n",
    "print()"
   ]
  },
  {
   "cell_type": "code",
   "execution_count": 21,
   "id": "18fabe15",
   "metadata": {},
   "outputs": [
    {
     "name": "stdout",
     "output_type": "stream",
     "text": [
      "11 12 13 14 15 16 17 18 19 20 \n"
     ]
    }
   ],
   "source": [
    "##input_[2:4,:]\n",
    "for i in range(2,4):\n",
    "    for j in range(0,5):\n",
    "        print(arr_2d[i][j],end=\" \")\n",
    "print()"
   ]
  },
  {
   "cell_type": "code",
   "execution_count": 22,
   "id": "abc31fc4",
   "metadata": {},
   "outputs": [
    {
     "name": "stdout",
     "output_type": "stream",
     "text": [
      "7 8 12 13 \n"
     ]
    }
   ],
   "source": [
    "##input_[1:3,1:3]\n",
    "for i in range(1,3):\n",
    "    for j in range(1,3):\n",
    "        print(arr_2d[i][j],end=\" \")\n",
    "print()"
   ]
  }
 ],
 "metadata": {
  "kernelspec": {
   "display_name": "Python 3 (ipykernel)",
   "language": "python",
   "name": "python3"
  },
  "language_info": {
   "codemirror_mode": {
    "name": "ipython",
    "version": 3
   },
   "file_extension": ".py",
   "mimetype": "text/x-python",
   "name": "python",
   "nbconvert_exporter": "python",
   "pygments_lexer": "ipython3",
   "version": "3.9.13"
  }
 },
 "nbformat": 4,
 "nbformat_minor": 5
}
